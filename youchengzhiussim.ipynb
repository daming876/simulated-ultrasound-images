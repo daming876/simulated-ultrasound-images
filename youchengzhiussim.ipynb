{
 "cells": [
  {
   "cell_type": "code",
   "execution_count": 6,
   "id": "0f1faa72",
   "metadata": {},
   "outputs": [
    {
     "ename": "ModuleNotFoundError",
     "evalue": "No module named 'matlab.engine'; 'matlab' is not a package",
     "output_type": "error",
     "traceback": [
      "\u001b[1;31m---------------------------------------------------------------------------\u001b[0m",
      "\u001b[1;31mModuleNotFoundError\u001b[0m                       Traceback (most recent call last)",
      "Cell \u001b[1;32mIn [6], line 3\u001b[0m\n\u001b[0;32m      1\u001b[0m \u001b[38;5;66;03m#本代码（1）把尤同学的调用代码从matlab转换为python代码. （2）MUST toolbox里的函数则使用matlab.engine调用（不修改为python代码）\u001b[39;00m\n\u001b[0;32m      2\u001b[0m \u001b[38;5;28;01mimport\u001b[39;00m \u001b[38;5;21;01mmatlab\u001b[39;00m\n\u001b[1;32m----> 3\u001b[0m \u001b[38;5;28;01mimport\u001b[39;00m \u001b[38;5;21;01mmatlab\u001b[39;00m\u001b[38;5;21;01m.\u001b[39;00m\u001b[38;5;21;01mengine\u001b[39;00m\n\u001b[0;32m      4\u001b[0m \u001b[38;5;28;01mimport\u001b[39;00m \u001b[38;5;21;01mos\u001b[39;00m\n\u001b[0;32m      5\u001b[0m \u001b[38;5;28;01mimport\u001b[39;00m \u001b[38;5;21;01mnumpy\u001b[39;00m \u001b[38;5;28;01mas\u001b[39;00m \u001b[38;5;21;01mnp\u001b[39;00m\n",
      "\u001b[1;31mModuleNotFoundError\u001b[0m: No module named 'matlab.engine'; 'matlab' is not a package"
     ]
    }
   ],
   "source": [
    "#本代码（1）把尤同学的调用代码从matlab转换为python代码. （2）MUST toolbox里的函数则使用matlab.engine调用（不修改为python代码）\n",
    "import matlab\n",
    "import matlab.engine\n",
    "import os\n",
    "import numpy as np\n",
    "import cv2\n",
    "\n",
    "\n",
    "eng=matlab.engine.start_matlab()   #启动matlab引擎\n",
    "\n",
    "filepath=os.getcwd()\n",
    "               \n",
    "n_pw =np.arange(1,26)\n",
    "Na = n_pw\n",
    "alpha_max =np.deg2rad(16)  #% 读取角度值,角度值转换为弧度值可以使用函数：deg2rad.  这里将16度的角度值，换为弧度值，约0.25。    alpha_max = atan(1/2/F_number);\n",
    "alpha=np.linspace(-alpha_max,alpha_max,len(n_pw))    #% vector of angles [rad]\n",
    "\n",
    "#%for i=33:68\n",
    "for i in range(1,3):\n",
    "    picname = f\"D:/matlab/cleanimg/{i:05d}.jpg\"  # %读取第33到68张图片\n",
    "    I = cv2.imread(picname,cv2.IMREAD_GRAYSCALE)\n",
    "    nl,nc = I.shape  # %返回矩阵I的行、列尺寸信息\n",
    "   \n",
    "    toolbox_path=\"C:/Program Files/MATLAB/R2023a/toolbox/MUST\" #添加工具箱路径\n",
    "    eng.addpath(toolbox_path)\n",
    "    \n",
    "    # % Choose a cardiac phased array\n",
    "    param = eng.getparam('L11-5v');   # %选择不同的 transducer参数， L11-5v' (128-element, 7.6-MHz linear array)\n",
    "    param['fc'] = int(np.random.randint(50,131)*1e5)  #%随机生成50到130之间的一个数。随机生成参数fc、fs、kerf、width的值。\n",
    "    param['fs'] = 4*param['fc']\n",
    "    param['kerf'] = np.random.randint(2,6)*1e-5\n",
    "    param['width'] =np.random.randint(25,31)*1e-5;\n",
    "    param['pitch'] = param['kerf'] + param['width']\n",
    "    array_lenth = param['Nelements']*param['pitch']   #%计算array_lenth\n",
    "    \n",
    "    #% Create a 2-D distribution of scatterers whose depth is 15 cm. RC will contain the reflection coefficients.\n",
    "    xs,_,zs,RC = eng.genscat(float('nan'),5e-2,param,matlab.double(I.tolist()))  # %Generate a distribution of scatterers，使用genscat函数生成散射体在深度为5cm处的分布以及反射系数RC。特殊字符\"NaN\"表示Not a NUmber既不是实数也不是复数的“非数字”的值，一个没有意义的数字\n",
    "    scale = (np.max(xs)-np.min(xs))/array_lenth   #%计算缩放比例scale，然后下面将xs和zs按照该比例进行缩放\n",
    "    xs/=scale\n",
    "    zs=20/1000 + zs/scale\n",
    "    #% Create a 256x256 polar grid with IMPOLGRID.创建一个256x256的极坐标网格。\n",
    "    xi = linspace(np.min(xs),np.max(xs),nc)  #% in m\n",
    "    zi = linspace(np.min(zs),np.max(zs),nl)  #% in m\n",
    "    xi,zi = np.meshgrid(xi,zi)\n",
    "\n",
    "    IQc = np.zeros_like(xi,dtype=complex)  #% will contain the compound I/Q\n",
    "    opt=eng.struct()\n",
    "    opt.ElementSplitting = 1  #% to make simulations faster 来加快模拟速度\n",
    "    opt.WaitBar = false  #% no progress bar for SIMUS， SIMUS没有进度条\n",
    "    param.fs = 4*param.fc  #% sampling frequency\n",
    "    param.fnumber = []\n",
    "\n",
    "    #h = waitbar(0,'SIMUS & DAS...');   #%更新进度条。第一个参数必须为0到1之间的数，第二个参数message为显示的信息\n",
    "    for k in range(len(n_pw)):\n",
    "        dels = eng.txdelay(param,alpha[k]) #% transmit delays\n",
    "        RF = eng.simus(xs,zs,RC,dels,param,opt) #% RF simulation\n",
    "        IQ = eng.rf2iq(RF,param)  #% I/Q （射频信号）， demodulation 解调\n",
    "        IQb = eng.das(IQ,xi.tolist(),zi.tolist(),dels,param)  #% DAS beamforming\n",
    "        IQc += np.array(IQb._data).reshape((nl,nc)) #% compounding\n",
    "        #waitbar(k/length(alpha),h,['SIMUS & DAS: ' int2str(k) ' of ' int2str(length(n_pw)) ' completed'])    #%显示进度条\n",
    "       \n",
    "\n",
    "    B = eng.bmode(IQc.tolist(),100)   #% log-compressed image\n",
    "    B=np.array(B._data).reshape((nl,nc))\n",
    "\n",
    "    #%cd('D:\\MUST (1)\\US VALIDATE(1)')          %把当前工作目录切换到指定文件夹\n",
    "    image_path=f\"D:/matlab/usimg/{i:05d}.jpg\"\n",
    "    cv2.imwrite(image_path,B)\n",
    "    \n",
    "    save_path=f\"D:/matlab/usimg/{i:05d}.m\"\n",
    "    np.save(save_path,param)\n",
    "eng.quit() \n",
    "os.chdir(filepath)"
   ]
  },
  {
   "cell_type": "code",
   "execution_count": null,
   "id": "4b9f68ca",
   "metadata": {},
   "outputs": [],
   "source": []
  }
 ],
 "metadata": {
  "kernelspec": {
   "display_name": "pytorchlearn",
   "language": "python",
   "name": "pytorchlearn"
  },
  "language_info": {
   "codemirror_mode": {
    "name": "ipython",
    "version": 3
   },
   "file_extension": ".py",
   "mimetype": "text/x-python",
   "name": "python",
   "nbconvert_exporter": "python",
   "pygments_lexer": "ipython3",
   "version": "3.9.12"
  }
 },
 "nbformat": 4,
 "nbformat_minor": 5
}
